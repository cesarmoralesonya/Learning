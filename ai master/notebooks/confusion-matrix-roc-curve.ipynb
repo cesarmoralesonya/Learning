{
 "cells": [
  {
   "cell_type": "markdown",
   "metadata": {},
   "source": [
    "# Objective\n",
    "Calculate all performance measures of a classifier with the below confusion matrix and evaluate"
   ]
  },
  {
   "cell_type": "code",
   "execution_count": 1,
   "metadata": {},
   "outputs": [
    {
     "name": "stdout",
     "output_type": "stream",
     "text": [
      "[[674  91]\n",
      " [ 89 146]]\n"
     ]
    }
   ],
   "source": [
    "import numpy as np\n",
    "list_nums = [674,91,89,146]\n",
    "confusion_matrix = np.array(list_nums).reshape(2,2)\n",
    "print(confusion_matrix)"
   ]
  },
  {
   "cell_type": "code",
   "execution_count": 8,
   "metadata": {},
   "outputs": [
    {
     "name": "stdout",
     "output_type": "stream",
     "text": [
      "true positives(TP) = 674\n",
      "false positives(FP) = 91\n",
      "false negatives(FN) = 89\n",
      "true negatives(TN) = 146\n",
      "\n"
     ]
    }
   ],
   "source": [
    "true_positives  = confusion_matrix[0][0]\n",
    "false_positives = confusion_matrix[0][1]\n",
    "false_negatives = confusion_matrix[1][0]\n",
    "true_negatives  = confusion_matrix[1][1]\n",
    "message = \"true positives(TP) = {}\\nfalse positives(FP) = {}\\nfalse negatives(FN) = {}\\ntrue negatives(TN) = {}\\n\"\n",
    "message = message.format(true_positives, false_positives, false_negatives, true_negatives)\n",
    "print(message)"
   ]
  },
  {
   "cell_type": "markdown",
   "metadata": {},
   "source": [
    "## Calculate the performance measures\n",
    "$$TPR(True Positive Rate) = \\frac{TP}{TP+FN}$$\n",
    "$$Sensitive = \\frac{TP}{TP+FN}$$\n",
    "$$TNR(True Negative Rate) = \\frac{TN}{TN+FN}$$\n",
    "$$FPR(False Positive Rate) = \\frac{FP}{FP+TN}$$\n",
    "\n",
    "$$Specificity = 1 - FPR$$\n",
    "$$Accuracy = \\frac{TP+TN}{TP+TN+FP+FN}$$\n",
    "$$Precision = \\frac{TP}{TP+FP}$$\n",
    "$$Recall = \\frac{TP}{TP + FN}$$\n",
    "$$F score = \\frac{2}{\\frac{1}{Precision}+\\frac{1}{Recall}}$$"
   ]
  },
  {
   "cell_type": "code",
   "execution_count": 13,
   "metadata": {},
   "outputs": [
    {
     "name": "stdout",
     "output_type": "stream",
     "text": [
      "TPR=0.8833551769331586\n",
      "sensitive=0.8833551769331586\n",
      "TNR=0.6212765957446809\n",
      "FPR=0.38396624472573837\n",
      "Specificity=0.6160337552742616\n",
      "Accuracy=0.82\n",
      "Precision=0.8810457516339869\n",
      "Recall=0.8833551769331586\n",
      "F score=0.8821989528795813\n"
     ]
    }
   ],
   "source": [
    "TPR = true_positives/(true_positives+false_negatives)\n",
    "sensitive = true_positives/(true_positives+false_negatives)\n",
    "TNR = true_negatives/(true_negatives+false_negatives)\n",
    "FPR = false_positives/(false_positives+true_negatives)\n",
    "specificity = 1 -FPR\n",
    "accuracy = (true_positives+true_negatives)/(true_positives+true_negatives+false_positives+false_negatives)\n",
    "precision = true_positives/(true_positives+false_positives)\n",
    "recall= true_positives/(true_positives+false_negatives)\n",
    "f_score = 2/((1/precision)+(1/recall))\n",
    "\n",
    "message = \"TPR={}\\nsensitive={}\\nTNR={}\\nFPR={}\\nSpecificity={}\\nAccuracy={}\\nPrecision={}\\nRecall={}\\nF score={}\"\n",
    "message = message.format(TPR, sensitive, TNR, FPR, specificity, accuracy, precision, recall, f_score)\n",
    "print(message)"
   ]
  },
  {
   "cell_type": "markdown",
   "metadata": {},
   "source": [
    "## Evaluation\n",
    "[Curve_ROC](https://es.wikipedia.org/wiki/Curva_ROC)\n"
   ]
  },
  {
   "cell_type": "code",
   "execution_count": 27,
   "metadata": {},
   "outputs": [
    {
     "data": {
      "image/png": "[encoded data removed]",
      "text/plain": [
       "<Figure size 432x288 with 1 Axes>"
      ]
     },
     "metadata": {
      "needs_background": "light"
     },
     "output_type": "display_data"
    }
   ],
   "source": [
    "import matplotlib.pyplot as plt\n",
    "from pylab import *\n",
    "random_guess = [0.0,0.5,1.0]\n",
    "point= plt.scatter(FPR,TPR,10)\n",
    "plt.xlabel(\"FPR\",fontsize=10)\n",
    "plt.ylabel(\"TPR\",fontsize=10)\n",
    "plt.plot(random_guess)\n",
    "plt.show()"
   ]
  },
  {
   "cell_type": "markdown",
   "metadata": {},
   "source": [
    "The evaluation is positive because the curve Roc is above the random guess line."
   ]
  },
  {
   "cell_type": "markdown",
   "metadata": {},
   "source": [
    "## References\n",
    "\n",
    "[Plot points](https://www.dev2qa.com/python-3-matplotlib-draw-point-line-example/)\n",
    "\n",
    "[Plot functions](http://research.iac.es/sieinvens/python-course/source/matplotlib.html)"
   ]
  },
  {
   "cell_type": "code",
   "execution_count": null,
   "metadata": {},
   "outputs": [],
   "source": []
  }
 ],
 "metadata": {
  "kernelspec": {
   "display_name": "'Python Interactive'",
   "language": "python",
   "name": "30035caf-5de0-4a94-81c1-b9499d0ef57c"
  },
  "language_info": {
   "codemirror_mode": {
    "name": "ipython",
    "version": 3
   },
   "file_extension": ".py",
   "mimetype": "text/x-python",
   "name": "python",
   "nbconvert_exporter": "python",
   "pygments_lexer": "ipython3",
   "version": "3.7.1"
  }
 },
 "nbformat": 4,
 "nbformat_minor": 2
}
